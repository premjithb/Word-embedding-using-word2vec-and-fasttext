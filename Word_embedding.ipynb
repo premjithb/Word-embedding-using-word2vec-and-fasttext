{
 "cells": [
  {
   "cell_type": "code",
   "execution_count": 1,
   "metadata": {},
   "outputs": [
    {
     "name": "stderr",
     "output_type": "stream",
     "text": [
      "/usr/lib/python3.5/importlib/_bootstrap.py:222: RuntimeWarning: numpy.dtype size changed, may indicate binary incompatibility. Expected 96, got 88\n",
      "  return f(*args, **kwds)\n"
     ]
    }
   ],
   "source": [
    "import pandas as pd\n",
    "from gensim.models import Word2Vec\n",
    "from pyfasttext import FastText"
   ]
  },
  {
   "cell_type": "code",
   "execution_count": 2,
   "metadata": {},
   "outputs": [],
   "source": [
    "data = pd.read_table('data.txt', header = None)"
   ]
  },
  {
   "cell_type": "code",
   "execution_count": 15,
   "metadata": {},
   "outputs": [],
   "source": [
    "sentences = data[0].tolist()"
   ]
  },
  {
   "cell_type": "code",
   "execution_count": 16,
   "metadata": {},
   "outputs": [],
   "source": [
    "sent = []\n",
    "for i in range(len(sentences)):\n",
    "    sent.append(sentences[i].split())"
   ]
  },
  {
   "cell_type": "code",
   "execution_count": 18,
   "metadata": {},
   "outputs": [],
   "source": [
    "wvmodel = Word2Vec(sent, size=500, window=1, min_count=1)"
   ]
  },
  {
   "cell_type": "code",
   "execution_count": 46,
   "metadata": {},
   "outputs": [],
   "source": [
    "words = [\"yuDizWira\", \"BIma\", \"arjuna\", \"vAsudeva\"]"
   ]
  },
  {
   "cell_type": "code",
   "execution_count": 47,
   "metadata": {},
   "outputs": [
    {
     "name": "stdout",
     "output_type": "stream",
     "text": [
      "-----------------------\n",
      "\n",
      "\n",
      "Similar words of  yuDizWira  are :\n",
      "\n",
      "suyoDana\n",
      "DarmarAja\n",
      "pARqaveya\n",
      "DftarAzwra\n",
      "pAYcAlI\n",
      "-----------------------\n",
      "\n",
      "\n",
      "Similar words of  BIma  are :\n",
      "\n",
      "BImasena\n",
      "aBidru\n",
      "Gawotkaca\n",
      "kirIwin\n",
      "prahasta\n",
      "-----------------------\n",
      "\n",
      "\n",
      "Similar words of  arjuna  are :\n",
      "\n",
      "Palguna\n",
      "sAtyaki\n",
      "DanaMjaya\n",
      "BImasena\n",
      "rADeya\n",
      "-----------------------\n",
      "\n",
      "\n",
      "Similar words of  vAsudeva  are :\n",
      "\n",
      "keSava\n",
      "hfzIkeSa\n",
      "devadeva\n",
      "acyuta\n",
      "janArdana\n"
     ]
    }
   ],
   "source": [
    "for i in range(len(words)):\n",
    "    print(\"-----------------------\")\n",
    "    print(\"\\n\")\n",
    "    similar = wvmodel.wv.most_similar(words[i], topn = 5)\n",
    "    print(\"Similar words of \",words[i],\" are :\\n\")\n",
    "    for j in range(len(similar)):\n",
    "        print(similar[j][0])"
   ]
  },
  {
   "cell_type": "code",
   "execution_count": 41,
   "metadata": {},
   "outputs": [],
   "source": [
    "ftmodel = FastText()\n",
    "ftmodel.skipgram(input='data.txt', output='model_ft', epoch=10, lr=0.1, dim=300)"
   ]
  },
  {
   "cell_type": "code",
   "execution_count": 48,
   "metadata": {},
   "outputs": [
    {
     "name": "stdout",
     "output_type": "stream",
     "text": [
      "-----------------------\n",
      "\n",
      "\n",
      "Similar words of  yuDizWira  are :\n",
      "\n",
      "('DarmarAjan', 0.5812046527862549)\n",
      "('yODizWira', 0.5618515610694885)\n",
      "('DarmarAja', 0.5602243542671204)\n",
      "('pARqava', 0.5308553576469421)\n",
      "('DarmarAj', 0.5268990397453308)\n",
      "-----------------------\n",
      "\n",
      "\n",
      "Similar words of  BIma  are :\n",
      "\n",
      "('BImasena', 0.6227580904960632)\n",
      "('pARqava', 0.5288200378417969)\n",
      "('arjuna', 0.4803023338317871)\n",
      "('satyasena', 0.4754185378551483)\n",
      "('vfkodara', 0.4729107618331909)\n",
      "-----------------------\n",
      "\n",
      "\n",
      "Similar words of  arjuna  are :\n",
      "\n",
      "('arjunaka', 0.6980844736099243)\n",
      "('anarjuna', 0.6944109797477722)\n",
      "('Palguna', 0.5129585266113281)\n",
      "('pArTa', 0.49963435530662537)\n",
      "('SvetavAha', 0.4830726385116577)\n",
      "-----------------------\n",
      "\n",
      "\n",
      "Similar words of  vAsudeva  are :\n",
      "\n",
      "('sudeva', 0.6193196177482605)\n",
      "('vasudeva', 0.5244143009185791)\n",
      "('kfzRa', 0.44004371762275696)\n",
      "('devakInandana', 0.42733633518218994)\n",
      "('nfdeva', 0.42382586002349854)\n"
     ]
    }
   ],
   "source": [
    "for i in range(len(words)):\n",
    "    print(\"-----------------------\")\n",
    "    print(\"\\n\")\n",
    "    similar = ftmodel.most_similar([words[i]], k = 5)\n",
    "    print(\"Similar words of \",words[i],\" are :\\n\")\n",
    "    for j in range(len(similar)):\n",
    "        print(similar[j])"
   ]
  },
  {
   "cell_type": "code",
   "execution_count": null,
   "metadata": {},
   "outputs": [],
   "source": []
  }
 ],
 "metadata": {
  "kernelspec": {
   "display_name": "Python 3",
   "language": "python",
   "name": "python3"
  },
  "language_info": {
   "codemirror_mode": {
    "name": "ipython",
    "version": 3
   },
   "file_extension": ".py",
   "mimetype": "text/x-python",
   "name": "python",
   "nbconvert_exporter": "python",
   "pygments_lexer": "ipython3",
   "version": "3.5.2"
  }
 },
 "nbformat": 4,
 "nbformat_minor": 2
}
